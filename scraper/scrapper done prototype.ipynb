{
 "cells": [
  {
   "cell_type": "code",
   "execution_count": null,
   "metadata": {},
   "outputs": [],
   "source": [
    "from selenium import webdriver \n",
    "\n",
    "driver = webdriver.Chrome()\n",
    "\n",
    "\n",
    "\n",
    "driver.get(\"https://www.tcgplayer.com/product/562748/magic-the-gathering-duskmourn-house-of-horror-screaming-nemesis?Language=English\")"
   ]
  },
  {
   "cell_type": "code",
   "execution_count": 11,
   "metadata": {},
   "outputs": [],
   "source": [
    "from selenium import webdriver \n",
    "driver = webdriver.Chrome()\n",
    "\n",
    "driver.get(\"https://www.tcgplayer.com/product/485262/one-piece-card-game-one-piece-promotion-cards-roronoa-zoro-op01-001-alternate-art\")"
   ]
  },
  {
   "cell_type": "code",
   "execution_count": null,
   "metadata": {},
   "outputs": [],
   "source": [
    "from selenium import webdriver\n",
    "from concurrent.futures import ThreadPoolExecutor\n",
    "\n",
    "# Function to open a webpage\n",
    "def open_page(url):\n",
    "    # Start the browser session\n",
    "    driver = webdriver.Chrome()\n",
    "    driver.get(url)\n",
    "    \n",
    "  \n",
    "   \n",
    "# List of URLs you want to open\n",
    "urls = [\n",
    "    \"https://www.tcgplayer.com/product/485262/one-piece-card-game-one-piece-promotion-cards-roronoa-zoro-op01-001-alternate-art\",\n",
    "    \"https://www.tcgplayer.com/product/485263/one-piece-card-game-one-piece-promotion-cards-luffy-op01-002-alternate-art\",\n",
    "   \n",
    " \n",
    "]\n",
    "\n",
    "# Create a ThreadPoolExecutor to run multiple browsers concurrently\n",
    "with ThreadPoolExecutor(max_workers=2) as executor:\n",
    "    # Execute the open_page function for each URL in the list\n",
    "    executor.map(open_page, urls)\n"
   ]
  }
 ],
 "metadata": {
  "kernelspec": {
   "display_name": ".venv",
   "language": "python",
   "name": "python3"
  },
  "language_info": {
   "codemirror_mode": {
    "name": "ipython",
    "version": 3
   },
   "file_extension": ".py",
   "mimetype": "text/x-python",
   "name": "python",
   "nbconvert_exporter": "python",
   "pygments_lexer": "ipython3",
   "version": "3.13.0"
  }
 },
 "nbformat": 4,
 "nbformat_minor": 2
}
